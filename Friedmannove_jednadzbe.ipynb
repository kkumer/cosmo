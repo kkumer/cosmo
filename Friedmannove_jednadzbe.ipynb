{
 "cells": [
  {
   "cell_type": "markdown",
   "metadata": {},
   "source": [
    "# Friedmannove jednad\u017ebe\n",
    "\n",
    "Ovo je prilagodba radnog listi\u0107a dostupnog [ovdje](http://sagemanifolds.obspm.fr/examples.html). "
   ]
  },
  {
   "cell_type": "markdown",
   "metadata": {},
   "source": [
    "Da bi sve funkcioniralo, osim jupyter notebooka potrebno je instalirati i Sage kernel. To se na Arch linuxu mo\u017ee tim redom. Drugdje je mo\u017eda pogodnije naprosto instalirati Sage koji mislim dolazi sa svojim jupyter notebookom."
   ]
  },
  {
   "cell_type": "code",
   "execution_count": null,
   "metadata": {},
   "outputs": [],
   "source": [
    "version()"
   ]
  },
  {
   "cell_type": "markdown",
   "metadata": {},
   "source": [
    "Postavljanje prikaza simbola kori\u0161tenjem LaTeX formatiranja:"
   ]
  },
  {
   "cell_type": "code",
   "execution_count": null,
   "metadata": {},
   "outputs": [],
   "source": [
    "%display latex"
   ]
  },
  {
   "cell_type": "markdown",
   "metadata": {},
   "source": [
    "Deklariramo prostorvrijeme kao 4-dimenzionalnu diferencijabilnu mnogostrukost $M$:"
   ]
  },
  {
   "cell_type": "code",
   "execution_count": null,
   "metadata": {},
   "outputs": [],
   "source": [
    "M = Manifold(4, 'M')\n",
    "print(M)"
   ]
  },
  {
   "cell_type": "markdown",
   "metadata": {},
   "source": [
    "Uvodimo standardne (FL)RW koordinate, koriste\u0107i metodu `chart()`, s argumentom koji je python string s razmaknuto navedenim koordinatama u sintaksi\n",
    "`simbol:raspon vrijednosti:LaTeX simbol`\n",
    "gdje je defaultni raspon vrijednosti $(-\\infty, \\infty)$:"
   ]
  },
  {
   "cell_type": "code",
   "execution_count": null,
   "metadata": {},
   "outputs": [],
   "source": [
    "fr.<t,r,th,ph> = M.chart(r't r:[0,+oo) th:[0,pi]:\\theta ph:[0,2*pi):\\phi')\n",
    "fr"
   ]
  },
  {
   "cell_type": "markdown",
   "metadata": {},
   "source": [
    "Definiramo skalarne varijable: Newtonovu konstantu $G$, konstantu prostorne zakrivljenosti $k\\in\\{1,0,-1\\}$, radijus zakrivljenosti $R_{0}$, faktor skale $a(t)$, gusto\u0107a kozmi\u010dkog fluida $\\rho(t)$ i njegov tlak $p(t)$. Za RW metriku koristimo izraz iz Ryden (2016)\n",
    "\n",
    "$$ ds^2 = c^2 dt^2 - a^{2}(t)\\left(\\frac{dr^2}{1-\\frac{k r^2}{R_{0}^2}} + r^2 d\\Omega\\right) $$\n",
    "  \n",
    "uz napomenu da koristimo suprotni preznak metrike i da ve\u0107ina literature apsorbira radijus zakrivljenosti $R_0$ ili u konstantu zakrivljenosti $K \\equiv k/R_{0}^2$ ili u faktor skale uz redefiniciju koordinate $r\\to r R_0$ tako da postane bezdimenzionalna."
   ]
  },
  {
   "cell_type": "code",
   "execution_count": null,
   "metadata": {},
   "outputs": [],
   "source": [
    "var('G, Lambda, k, R0, c', domain='real')\n",
    "a = M.scalar_field(function('a')(t), name='a')\n",
    "rho = M.scalar_field(function('rho')(t), name='rho')\n",
    "p = M.scalar_field(function('p')(t), name='p')"
   ]
  },
  {
   "cell_type": "markdown",
   "metadata": {},
   "source": [
    "RW metriku definiramo u \"-\" konvenciji (tj. \"\u010desti\u010darska\" ili \"West coast\", dakle obrnuto od Ryden):"
   ]
  },
  {
   "cell_type": "code",
   "execution_count": null,
   "metadata": {},
   "outputs": [],
   "source": [
    "g = M.lorentzian_metric('g', signature='negative')\n",
    "g[0,0] = c*c\n",
    "g[1,1] = -a*a/(1 - k*r^2/R0^2)\n",
    "g[2,2] = -a*a*r^2\n",
    "g[3,3] = -a*a*(r*sin(th))^2\n",
    "g.display()"
   ]
  },
  {
   "cell_type": "markdown",
   "metadata": {},
   "source": [
    "<p>A matrix view of the metric components:</p>"
   ]
  },
  {
   "cell_type": "code",
   "execution_count": null,
   "metadata": {},
   "outputs": [],
   "source": [
    "g[:]"
   ]
  },
  {
   "cell_type": "markdown",
   "metadata": {},
   "source": [
    "<p>Christoffelovi simboli su kvadratni u metri\u010dkom tenzoru pa ne ovise o konvencijama za predznake:</p>"
   ]
  },
  {
   "cell_type": "code",
   "execution_count": null,
   "metadata": {},
   "outputs": [],
   "source": [
    "nabla = g.connection()\n",
    "g.christoffel_symbols_display()"
   ]
  },
  {
   "cell_type": "markdown",
   "metadata": {},
   "source": [
    "Riccijev tenzor:"
   ]
  },
  {
   "cell_type": "code",
   "execution_count": null,
   "metadata": {},
   "outputs": [],
   "source": [
    "Ricci = nabla.ricci()\n",
    "Ricci.display_comp()"
   ]
  },
  {
   "cell_type": "markdown",
   "metadata": {},
   "source": [
    "Ovi izrazrazi su, nakon zamjene $k \\to k R_0$, u slaganju s [wikipedijom](https://en.wikipedia.org/wiki/Friedmann%E2%80%93Lema%C3%AEtre%E2%80%93Robertson%E2%80%93Walker_metric#Spherical_coordinates):\n",
    "\n",
    "$$ R_{tt} = - 3 \\frac{\\ddot{a}}{a}, \\\\\n",
    "R_{rr}=\\frac{c^{-2}(a(t)\\ddot{a}(t) + 2\\dot{a}^2(t)) + 2k}{1 - kr^2} \\\\\n",
    "R_{\\theta\\theta} = r^2(c^{-2}(a(t)\\ddot{a}(t) + 2\\dot{a}^2(t)) + 2k) \\\\\n",
    "R_{\\phi\\phi} =r^2(c^{-2}(a(t)\\ddot{a}(t) + 2\\dot{a}^2(t)) + 2k)\\sin^2(\\theta)$$"
   ]
  },
  {
   "cell_type": "markdown",
   "metadata": {},
   "source": [
    "Iz dokumentacije SageManifolds paketa mo\u017ee se zaklju\u010diti da isti koristi \"+\" konvenciju za prezdnak Riemannovog tenzora, kao i \"+\" konvenciju za vezu Riccijevog i Riemannovog tenzora (gdje za razliku od gornje konvencije za metriku korisnik to ne mo\u017ee mijenjati), \u0161to zna\u010di da je nu\u017eno pisati Einsteinovu jednad\u017ebu gravitacije u \"+\" konvenciji, tj.\n",
    "$$ R_{\\mu\\nu} - \\frac{1}{2}g_{\\mu\\nu}R = + \\frac{8\\pi G}{c^4} T_{\\mu\\nu}$$"
   ]
  },
  {
   "cell_type": "markdown",
   "metadata": {},
   "source": [
    "<p>Riccijev skalar ($R^\\mu_{\\ \\, \\mu}$):</p>"
   ]
  },
  {
   "cell_type": "code",
   "execution_count": null,
   "metadata": {},
   "outputs": [],
   "source": [
    "Ricci_scalar = g.ricci_scalar()\n",
    "Ricci_scalar.display()"
   ]
  },
  {
   "cell_type": "markdown",
   "metadata": {},
   "source": [
    "(Za razliku od Riccijevog tenzora koji je invarijantan na odabir konvencije za metri\u010dki tenzor, Riccijev skalar bi u drugoj konvenciji za metri\u010dki tenzor imao obrnuti predznak, npr. na gornjoj stranici wikipedije.) Uo\u010davamo da je za stati\u010dko prostorvrijeme Riccijev skalar"
   ]
  },
  {
   "cell_type": "code",
   "execution_count": null,
   "metadata": {},
   "outputs": [],
   "source": [
    "Ricci_scalar.expr().subs({a.expr():1, diff(a.expr(),t):0, diff(a.expr(),t,2):0})"
   ]
  },
  {
   "cell_type": "markdown",
   "metadata": {},
   "source": [
    "dakle proporcionalan je Gaussovoj zakrivljenosti plohe (relativni minus je u ovoj konvenciji za metriku jer je zakrivljen prostorni dio). To je manifestacija Gaussovog \"teorema egregium\" po kojem je ekstrinsi\u010dno svojstvo plohe (radijus zakrivljenosti) potpuno odre\u0111eno intrinsi\u010dnom metrikom na plohi."
   ]
  },
  {
   "cell_type": "markdown",
   "metadata": {},
   "source": [
    "<p>4-brzina kozmi\u010dkog fluida:</p>"
   ]
  },
  {
   "cell_type": "code",
   "execution_count": null,
   "metadata": {},
   "outputs": [],
   "source": [
    "u = M.vector_field('u')\n",
    "u[0] = 1/c\n",
    "u.display()"
   ]
  },
  {
   "cell_type": "markdown",
   "metadata": {},
   "source": [
    "<p>Tenzor energije-impulsa $T$ za savr\u0161eni fluid:</p>"
   ]
  },
  {
   "cell_type": "code",
   "execution_count": null,
   "metadata": {},
   "outputs": [],
   "source": [
    "u_form = u.down(g) # the 1-form associated to u by metric duality\n",
    "T = (rho*c^2+p)*(u_form*u_form) - p*g\n",
    "T.set_name('T')\n",
    "print(T)\n",
    "T.display()"
   ]
  },
  {
   "cell_type": "markdown",
   "metadata": {},
   "source": [
    "<p>Trag od $T$:</p>"
   ]
  },
  {
   "cell_type": "code",
   "execution_count": null,
   "metadata": {},
   "outputs": [],
   "source": [
    "Ttrace = g.inverse()['^ab']*T['_ab']\n",
    "Ttrace.display()"
   ]
  },
  {
   "cell_type": "markdown",
   "metadata": {},
   "source": [
    "<p>Einsteinova jednad\u017eba gravitacije. Kako je gore navedeno, nu\u017eno u \"+\" konvenciji: $R_{\\mu \\nu} - {1 \\over 2} R g_{\\mu \\nu} = {8 \\pi G} T_{\\mu \\nu}$</p>"
   ]
  },
  {
   "cell_type": "code",
   "execution_count": null,
   "metadata": {},
   "outputs": [],
   "source": [
    "E1 = Ricci - Ricci_scalar/2*g - (8*pi*G/c^4)*T\n",
    "print(\"Friedmannova jednad\u017eba:\\n\")\n",
    "(E1[0,0]/3).expr().expand() == 0      # dividing everything by 3"
   ]
  },
  {
   "cell_type": "markdown",
   "metadata": {},
   "source": [
    "<p>Trace-reversed version of the Einstein equation: $R_{\\mu \\nu} - \\Lambda g_{\\mu \\nu} = {8 \\pi G} \\left(T_{\\mu \\nu} - {1 \\over 2}T\\,g_{\\mu \\nu}\\right)$</p>"
   ]
  },
  {
   "cell_type": "code",
   "execution_count": null,
   "metadata": {},
   "outputs": [],
   "source": [
    "E2 = Ricci - (8*pi*G/c^4)*(T - Ttrace/2*g)\n",
    "print(\"Jednad\u017eba ubrzanja:\\n\")\n",
    "(E2[0,0]/3).expr().expand() == 0"
   ]
  },
  {
   "cell_type": "code",
   "execution_count": null,
   "metadata": {},
   "outputs": [],
   "source": []
  }
 ],
 "metadata": {
  "kernelspec": {
   "display_name": "SageMath 8.1",
   "language": "",
   "name": "sagemath"
  },
  "language": "python",
  "language_info": {
   "codemirror_mode": {
    "name": "ipython",
    "version": 2
   },
   "file_extension": ".py",
   "mimetype": "text/x-python",
   "name": "python",
   "nbconvert_exporter": "python",
   "pygments_lexer": "ipython2",
   "version": "2.7.14"
  },
  "toc": {
   "toc_cell": false,
   "toc_number_sections": true,
   "toc_threshold": 6,
   "toc_window_display": false
  }
 },
 "nbformat": 4,
 "nbformat_minor": 1
}