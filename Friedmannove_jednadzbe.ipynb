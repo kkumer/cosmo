{
 "cells": [
  {
   "cell_type": "markdown",
   "metadata": {},
   "source": [
    "# Friedmannove jednadžbe\n",
    "\n",
    "Ovo je prilagodba radnog listića dostupnog [ovdje](http://sagemanifolds.obspm.fr/examples.html). "
   ]
  },
  {
   "cell_type": "markdown",
   "metadata": {},
   "source": [
    "Da bi sve funkcioniralo, osim jupyter notebooka potrebno je instalirati i Sage kernel. To se na Arch linuxu može tim redom. Drugdje je možda pogodnije naprosto instalirati Sage koji mislim dolazi sa svojim jupyter notebookom."
   ]
  },
  {
   "cell_type": "code",
   "execution_count": 1,
   "metadata": {},
   "outputs": [
    {
     "data": {
      "text/plain": [
       "'SageMath version 8.1, Release Date: 2017-12-07'"
      ]
     },
     "execution_count": 1,
     "metadata": {},
     "output_type": "execute_result"
    }
   ],
   "source": [
    "version()"
   ]
  },
  {
   "cell_type": "markdown",
   "metadata": {},
   "source": [
    "Postavljanje prikaza simbola korištenjem LaTeX formatiranja:"
   ]
  },
  {
   "cell_type": "code",
   "execution_count": 2,
   "metadata": {},
   "outputs": [],
   "source": [
    "%display latex"
   ]
  },
  {
   "cell_type": "markdown",
   "metadata": {},
   "source": [
    "Deklariramo prostorvrijeme kao 4-dimenzionalnu diferencijabilnu mnogostrukost $M$:"
   ]
  },
  {
   "cell_type": "code",
   "execution_count": 3,
   "metadata": {},
   "outputs": [
    {
     "name": "stdout",
     "output_type": "stream",
     "text": [
      "4-dimensional differentiable manifold M\n"
     ]
    }
   ],
   "source": [
    "M = Manifold(4, 'M')\n",
    "print(M)"
   ]
  },
  {
   "cell_type": "markdown",
   "metadata": {},
   "source": [
    "Uvodimo standardne (FL)RW koordinate, koristeći metodu `chart()`, s argumentom koji je python string s razmaknuto navedenim koordinatama u sintaksi\n",
    "`simbol:raspon vrijednosti:LaTeX simbol`\n",
    "gdje je defaultni raspon vrijednosti $(-\\infty, \\infty)$:"
   ]
  },
  {
   "cell_type": "code",
   "execution_count": 4,
   "metadata": {},
   "outputs": [
    {
     "data": {
      "text/html": [
       "<html><script type=\"math/tex; mode=display\">\\newcommand{\\Bold}[1]{\\mathbf{#1}}\\left(M,(t, r, {\\theta}, {\\phi})\\right)</script></html>"
      ],
      "text/plain": [
       "Chart (M, (t, r, th, ph))"
      ]
     },
     "execution_count": 4,
     "metadata": {},
     "output_type": "execute_result"
    }
   ],
   "source": [
    "fr.<t,r,th,ph> = M.chart(r't r:[0,+oo) th:[0,pi]:\\theta ph:[0,2*pi):\\phi')\n",
    "fr"
   ]
  },
  {
   "cell_type": "markdown",
   "metadata": {},
   "source": [
    "Definiramo skalarne varijable: Newtonovu konstantu $G$, konstantu prostorne zakrivljenosti $k\\in\\{1,0,-1\\}$, radijus zakrivljenosti $R_{0}$, faktor skale $a(t)$, gustoća energije kozmičkog fluida $\\epsilon(t)$  i njegov tlak $p(t)$. Za RW metriku koristimo izraz iz Ryden (2016)\n",
    "\n",
    "$$ ds^2 = c^2 dt^2 - a^{2}(t)\\left(\\frac{dr^2}{1-\\frac{k r^2}{R_{0}^2}} + r^2 d\\Omega\\right) $$\n",
    "  \n",
    "uz napomenu da koristimo suprotni predznak metrike i da većina literature apsorbira radijus zakrivljenosti $R_0$ ili u konstantu zakrivljenosti $K \\equiv k/R_{0}^2$ ili u faktor skale uz redefiniciju koordinate $r\\to r R_0$ tako da postane bezdimenzionalna."
   ]
  },
  {
   "cell_type": "code",
   "execution_count": 5,
   "metadata": {},
   "outputs": [],
   "source": [
    "var('G, Lambda, k, R0, c', domain='real')\n",
    "a = M.scalar_field(function('a')(t), name='a')\n",
    "epsilon = M.scalar_field(function('epsilon')(t), name='epsilon')\n",
    "p = M.scalar_field(function('p')(t), name='p')"
   ]
  },
  {
   "cell_type": "markdown",
   "metadata": {},
   "source": [
    "RW metriku definiramo u \"-\" konvenciji (tj. \"čestičarska\" ili \"West coast\", dakle obrnuto od Ryden). Također, budući da je gore nulta koordinata izabrana kao $t$, a ne, kako je uobičajeno $ct$, moramo uzeti $g_{00}=c^2$, a ne, kako je uobičajeno 1."
   ]
  },
  {
   "cell_type": "code",
   "execution_count": 6,
   "metadata": {},
   "outputs": [
    {
     "data": {
      "text/html": [
       "<html><script type=\"math/tex; mode=display\">\\newcommand{\\Bold}[1]{\\mathbf{#1}}g = c^{2} \\mathrm{d} t\\otimes \\mathrm{d} t + \\left( \\frac{a\\left(t\\right)^{2}}{\\frac{k r^{2}}{R_{0}^{2}} - 1} \\right) \\mathrm{d} r\\otimes \\mathrm{d} r -r^{2} a\\left(t\\right)^{2} \\mathrm{d} {\\theta}\\otimes \\mathrm{d} {\\theta} -r^{2} a\\left(t\\right)^{2} \\sin\\left({\\theta}\\right)^{2} \\mathrm{d} {\\phi}\\otimes \\mathrm{d} {\\phi}</script></html>"
      ],
      "text/plain": [
       "g = c^2 dt*dt + a(t)^2/(k*r^2/R0^2 - 1) dr*dr - r^2*a(t)^2 dth*dth - r^2*a(t)^2*sin(th)^2 dph*dph"
      ]
     },
     "execution_count": 6,
     "metadata": {},
     "output_type": "execute_result"
    }
   ],
   "source": [
    "g = M.lorentzian_metric('g', signature='negative')\n",
    "g[0,0] = c*c\n",
    "g[1,1] = -a*a/(1 - k*r^2/R0^2)\n",
    "g[2,2] = -a*a*r^2\n",
    "g[3,3] = -a*a*(r*sin(th))^2\n",
    "g.display()"
   ]
  },
  {
   "cell_type": "markdown",
   "metadata": {},
   "source": [
    "<p>Matrični zapis:</p>"
   ]
  },
  {
   "cell_type": "code",
   "execution_count": 7,
   "metadata": {},
   "outputs": [
    {
     "data": {
      "text/html": [
       "<html><script type=\"math/tex; mode=display\">\\newcommand{\\Bold}[1]{\\mathbf{#1}}\\left(\\begin{array}{rrrr}\n",
       "c^{2} & 0 & 0 & 0 \\\\\n",
       "0 & \\frac{a\\left(t\\right)^{2}}{\\frac{k r^{2}}{R_{0}^{2}} - 1} & 0 & 0 \\\\\n",
       "0 & 0 & -r^{2} a\\left(t\\right)^{2} & 0 \\\\\n",
       "0 & 0 & 0 & -r^{2} a\\left(t\\right)^{2} \\sin\\left({\\theta}\\right)^{2}\n",
       "\\end{array}\\right)</script></html>"
      ],
      "text/plain": [
       "[                    c^2                       0                       0                       0]\n",
       "[                      0 a(t)^2/(k*r^2/R0^2 - 1)                       0                       0]\n",
       "[                      0                       0             -r^2*a(t)^2                       0]\n",
       "[                      0                       0                       0   -r^2*a(t)^2*sin(th)^2]"
      ]
     },
     "execution_count": 7,
     "metadata": {},
     "output_type": "execute_result"
    }
   ],
   "source": [
    "g[:]"
   ]
  },
  {
   "cell_type": "markdown",
   "metadata": {},
   "source": [
    "<p>Christoffelovi simboli su kvadratni u metričkom tenzoru pa ne ovise o konvencijama za predznake:</p>"
   ]
  },
  {
   "cell_type": "code",
   "execution_count": 8,
   "metadata": {},
   "outputs": [
    {
     "data": {
      "text/html": [
       "<html><script type=\"math/tex; mode=display\">\\newcommand{\\Bold}[1]{\\mathbf{#1}}\\begin{array}{lcl} \\Gamma_{ \\phantom{\\, t} \\, r \\, r }^{ \\, t \\phantom{\\, r} \\phantom{\\, r} } & = & -\\frac{R_{0}^{2} a\\left(t\\right) \\frac{\\partial\\,a}{\\partial t}}{c^{2} k r^{2} - R_{0}^{2} c^{2}} \\\\ \\Gamma_{ \\phantom{\\, t} \\, {\\theta} \\, {\\theta} }^{ \\, t \\phantom{\\, {\\theta}} \\phantom{\\, {\\theta}} } & = & \\frac{r^{2} a\\left(t\\right) \\frac{\\partial\\,a}{\\partial t}}{c^{2}} \\\\ \\Gamma_{ \\phantom{\\, t} \\, {\\phi} \\, {\\phi} }^{ \\, t \\phantom{\\, {\\phi}} \\phantom{\\, {\\phi}} } & = & \\frac{r^{2} a\\left(t\\right) \\sin\\left({\\theta}\\right)^{2} \\frac{\\partial\\,a}{\\partial t}}{c^{2}} \\\\ \\Gamma_{ \\phantom{\\, r} \\, t \\, r }^{ \\, r \\phantom{\\, t} \\phantom{\\, r} } & = & \\frac{\\frac{\\partial\\,a}{\\partial t}}{a\\left(t\\right)} \\\\ \\Gamma_{ \\phantom{\\, r} \\, r \\, r }^{ \\, r \\phantom{\\, r} \\phantom{\\, r} } & = & -\\frac{k r}{k r^{2} - R_{0}^{2}} \\\\ \\Gamma_{ \\phantom{\\, r} \\, {\\theta} \\, {\\theta} }^{ \\, r \\phantom{\\, {\\theta}} \\phantom{\\, {\\theta}} } & = & \\frac{k r^{3} - R_{0}^{2} r}{R_{0}^{2}} \\\\ \\Gamma_{ \\phantom{\\, r} \\, {\\phi} \\, {\\phi} }^{ \\, r \\phantom{\\, {\\phi}} \\phantom{\\, {\\phi}} } & = & \\frac{{\\left(k r^{3} - R_{0}^{2} r\\right)} \\sin\\left({\\theta}\\right)^{2}}{R_{0}^{2}} \\\\ \\Gamma_{ \\phantom{\\, {\\theta}} \\, t \\, {\\theta} }^{ \\, {\\theta} \\phantom{\\, t} \\phantom{\\, {\\theta}} } & = & \\frac{\\frac{\\partial\\,a}{\\partial t}}{a\\left(t\\right)} \\\\ \\Gamma_{ \\phantom{\\, {\\theta}} \\, r \\, {\\theta} }^{ \\, {\\theta} \\phantom{\\, r} \\phantom{\\, {\\theta}} } & = & \\frac{1}{r} \\\\ \\Gamma_{ \\phantom{\\, {\\theta}} \\, {\\phi} \\, {\\phi} }^{ \\, {\\theta} \\phantom{\\, {\\phi}} \\phantom{\\, {\\phi}} } & = & -\\cos\\left({\\theta}\\right) \\sin\\left({\\theta}\\right) \\\\ \\Gamma_{ \\phantom{\\, {\\phi}} \\, t \\, {\\phi} }^{ \\, {\\phi} \\phantom{\\, t} \\phantom{\\, {\\phi}} } & = & \\frac{\\frac{\\partial\\,a}{\\partial t}}{a\\left(t\\right)} \\\\ \\Gamma_{ \\phantom{\\, {\\phi}} \\, r \\, {\\phi} }^{ \\, {\\phi} \\phantom{\\, r} \\phantom{\\, {\\phi}} } & = & \\frac{1}{r} \\\\ \\Gamma_{ \\phantom{\\, {\\phi}} \\, {\\theta} \\, {\\phi} }^{ \\, {\\phi} \\phantom{\\, {\\theta}} \\phantom{\\, {\\phi}} } & = & \\frac{\\cos\\left({\\theta}\\right)}{\\sin\\left({\\theta}\\right)} \\end{array}</script></html>"
      ],
      "text/plain": [
       "Gam^t_r,r = -R0^2*a(t)*d(a)/dt/(c^2*k*r^2 - R0^2*c^2) \n",
       "Gam^t_th,th = r^2*a(t)*d(a)/dt/c^2 \n",
       "Gam^t_ph,ph = r^2*a(t)*sin(th)^2*d(a)/dt/c^2 \n",
       "Gam^r_t,r = d(a)/dt/a(t) \n",
       "Gam^r_r,r = -k*r/(k*r^2 - R0^2) \n",
       "Gam^r_th,th = (k*r^3 - R0^2*r)/R0^2 \n",
       "Gam^r_ph,ph = (k*r^3 - R0^2*r)*sin(th)^2/R0^2 \n",
       "Gam^th_t,th = d(a)/dt/a(t) \n",
       "Gam^th_r,th = 1/r \n",
       "Gam^th_ph,ph = -cos(th)*sin(th) \n",
       "Gam^ph_t,ph = d(a)/dt/a(t) \n",
       "Gam^ph_r,ph = 1/r \n",
       "Gam^ph_th,ph = cos(th)/sin(th) "
      ]
     },
     "execution_count": 8,
     "metadata": {},
     "output_type": "execute_result"
    }
   ],
   "source": [
    "nabla = g.connection()\n",
    "g.christoffel_symbols_display()"
   ]
  },
  {
   "cell_type": "markdown",
   "metadata": {},
   "source": [
    "Riccijev tenzor:"
   ]
  },
  {
   "cell_type": "code",
   "execution_count": 9,
   "metadata": {},
   "outputs": [
    {
     "data": {
      "text/html": [
       "<html><script type=\"math/tex; mode=display\">\\newcommand{\\Bold}[1]{\\mathbf{#1}}\\begin{array}{lcl} \\mathrm{Ric}\\left(g\\right)_{ \\, t \\, t }^{ \\phantom{\\, t}\\phantom{\\, t} } & = & -\\frac{3 \\, \\frac{\\partial^2\\,a}{\\partial t ^ 2}}{a\\left(t\\right)} \\\\ \\mathrm{Ric}\\left(g\\right)_{ \\, r \\, r }^{ \\phantom{\\, r}\\phantom{\\, r} } & = & -\\frac{2 \\, R_{0}^{2} \\left(\\frac{\\partial\\,a}{\\partial t}\\right)^{2} + R_{0}^{2} a\\left(t\\right) \\frac{\\partial^2\\,a}{\\partial t ^ 2} + 2 \\, c^{2} k}{c^{2} k r^{2} - R_{0}^{2} c^{2}} \\\\ \\mathrm{Ric}\\left(g\\right)_{ \\, {\\theta} \\, {\\theta} }^{ \\phantom{\\, {\\theta}}\\phantom{\\, {\\theta}} } & = & \\frac{2 \\, R_{0}^{2} r^{2} \\left(\\frac{\\partial\\,a}{\\partial t}\\right)^{2} + R_{0}^{2} r^{2} a\\left(t\\right) \\frac{\\partial^2\\,a}{\\partial t ^ 2} + 2 \\, c^{2} k r^{2}}{R_{0}^{2} c^{2}} \\\\ \\mathrm{Ric}\\left(g\\right)_{ \\, {\\phi} \\, {\\phi} }^{ \\phantom{\\, {\\phi}}\\phantom{\\, {\\phi}} } & = & \\frac{{\\left(2 \\, R_{0}^{2} r^{2} \\left(\\frac{\\partial\\,a}{\\partial t}\\right)^{2} + R_{0}^{2} r^{2} a\\left(t\\right) \\frac{\\partial^2\\,a}{\\partial t ^ 2} + 2 \\, c^{2} k r^{2}\\right)} \\sin\\left({\\theta}\\right)^{2}}{R_{0}^{2} c^{2}} \\end{array}</script></html>"
      ],
      "text/plain": [
       "Ric(g)_t,t = -3*d^2(a)/dt^2/a(t) \n",
       "Ric(g)_r,r = -(2*R0^2*(d(a)/dt)^2 + R0^2*a(t)*d^2(a)/dt^2 + 2*c^2*k)/(c^2*k*r^2 - R0^2*c^2) \n",
       "Ric(g)_th,th = (2*R0^2*r^2*(d(a)/dt)^2 + R0^2*r^2*a(t)*d^2(a)/dt^2 + 2*c^2*k*r^2)/(R0^2*c^2) \n",
       "Ric(g)_ph,ph = (2*R0^2*r^2*(d(a)/dt)^2 + R0^2*r^2*a(t)*d^2(a)/dt^2 + 2*c^2*k*r^2)*sin(th)^2/(R0^2*c^2) "
      ]
     },
     "execution_count": 9,
     "metadata": {},
     "output_type": "execute_result"
    }
   ],
   "source": [
    "Ricci = nabla.ricci()\n",
    "Ricci.display_comp()"
   ]
  },
  {
   "cell_type": "markdown",
   "metadata": {},
   "source": [
    "Ovi izrazi su, nakon zamjene $k \\to k R_0$, u slaganju s [wikipedijom](https://en.wikipedia.org/wiki/Friedmann%E2%80%93Lema%C3%AEtre%E2%80%93Robertson%E2%80%93Walker_metric#Spherical_coordinates):\n",
    "\n",
    "$$ R_{tt} = - 3 \\frac{\\ddot{a}}{a}, \\\\\n",
    "R_{rr}=\\frac{c^{-2}(a(t)\\ddot{a}(t) + 2\\dot{a}^2(t)) + 2k}{1 - kr^2} \\\\\n",
    "R_{\\theta\\theta} = r^2(c^{-2}(a(t)\\ddot{a}(t) + 2\\dot{a}^2(t)) + 2k) \\\\\n",
    "R_{\\phi\\phi} =r^2(c^{-2}(a(t)\\ddot{a}(t) + 2\\dot{a}^2(t)) + 2k)\\sin^2(\\theta)$$"
   ]
  },
  {
   "cell_type": "markdown",
   "metadata": {},
   "source": [
    "Iz dokumentacije SageManifolds paketa može se zaključiti da isti koristi \"+\" konvenciju za prezdnak Riemannovog tenzora, kao i \"+\" konvenciju za vezu Riccijevog i Riemannovog tenzora (gdje za razliku od gornje konvencije za metriku korisnik to ne može mijenjati), što znači da je nužno pisati Einsteinovu jednadžbu gravitacije u \"+\" konvenciji, tj.\n",
    "$$ R_{\\mu\\nu} - \\frac{1}{2}g_{\\mu\\nu}R = + \\frac{8\\pi G}{c^4} T_{\\mu\\nu}$$"
   ]
  },
  {
   "cell_type": "markdown",
   "metadata": {},
   "source": [
    "<p>Riccijev skalar ($R^\\mu_{\\ \\, \\mu}$):</p>"
   ]
  },
  {
   "cell_type": "code",
   "execution_count": 10,
   "metadata": {
    "scrolled": true
   },
   "outputs": [
    {
     "data": {
      "text/html": [
       "<html><script type=\"math/tex; mode=display\">\\newcommand{\\Bold}[1]{\\mathbf{#1}}\\begin{array}{llcl} \\mathrm{r}\\left(g\\right):& M & \\longrightarrow & \\mathbb{R} \\\\ & \\left(t, r, {\\theta}, {\\phi}\\right) & \\longmapsto & -\\frac{6 \\, {\\left(R_{0}^{2} \\left(\\frac{\\partial\\,a}{\\partial t}\\right)^{2} + R_{0}^{2} a\\left(t\\right) \\frac{\\partial^2\\,a}{\\partial t ^ 2} + c^{2} k\\right)}}{R_{0}^{2} c^{2} a\\left(t\\right)^{2}} \\end{array}</script></html>"
      ],
      "text/plain": [
       "r(g): M --> R\n",
       "   (t, r, th, ph) |--> -6*(R0^2*(d(a)/dt)^2 + R0^2*a(t)*d^2(a)/dt^2 + c^2*k)/(R0^2*c^2*a(t)^2)"
      ]
     },
     "execution_count": 10,
     "metadata": {},
     "output_type": "execute_result"
    }
   ],
   "source": [
    "Ricci_scalar = g.ricci_scalar()\n",
    "Ricci_scalar.display()"
   ]
  },
  {
   "cell_type": "markdown",
   "metadata": {},
   "source": [
    "(Za razliku od Riccijevog tenzora koji je invarijantan na odabir konvencije za metrički tenzor, Riccijev skalar bi u drugoj konvenciji za metrički tenzor imao obrnuti predznak, npr. na gornjoj stranici wikipedije.) Uočavamo da je za statičko prostorvrijeme Riccijev skalar"
   ]
  },
  {
   "cell_type": "code",
   "execution_count": 11,
   "metadata": {},
   "outputs": [
    {
     "data": {
      "text/html": [
       "<html><script type=\"math/tex; mode=display\">\\newcommand{\\Bold}[1]{\\mathbf{#1}}-\\frac{6 \\, k}{R_{0}^{2}}</script></html>"
      ],
      "text/plain": [
       "-6*k/R0^2"
      ]
     },
     "execution_count": 11,
     "metadata": {},
     "output_type": "execute_result"
    }
   ],
   "source": [
    "Ricci_scalar.expr().subs({a.expr():1, diff(a.expr(),t):0, diff(a.expr(),t,2):0})"
   ]
  },
  {
   "cell_type": "markdown",
   "metadata": {},
   "source": [
    "dakle proporcionalan je Gaussovoj zakrivljenosti plohe (relativni minus je u ovoj konvenciji za metriku jer je zakrivljen prostorni dio). To je manifestacija Gaussovog \"teorema egregium\" po kojem je ekstrinsično svojstvo plohe (radijus zakrivljenosti) potpuno određeno intrinsičnom metrikom na plohi."
   ]
  },
  {
   "cell_type": "markdown",
   "metadata": {},
   "source": [
    "<p>4-brzina kozmičkog fluida:</p>"
   ]
  },
  {
   "cell_type": "code",
   "execution_count": 12,
   "metadata": {},
   "outputs": [
    {
     "data": {
      "text/html": [
       "<html><script type=\"math/tex; mode=display\">\\newcommand{\\Bold}[1]{\\mathbf{#1}}u = \\frac{1}{c} \\frac{\\partial}{\\partial t }</script></html>"
      ],
      "text/plain": [
       "u = 1/c d/dt"
      ]
     },
     "execution_count": 12,
     "metadata": {},
     "output_type": "execute_result"
    }
   ],
   "source": [
    "u = M.vector_field('u')\n",
    "u[0] = 1/c\n",
    "u.display()"
   ]
  },
  {
   "cell_type": "markdown",
   "metadata": {},
   "source": [
    "<p>Tenzor energije-impulsa $T$ za savršeni fluid. (Uočite da gustoća energije i tlak imaju istu dimenziju ${\\rm N/m}^2$):</p>"
   ]
  },
  {
   "cell_type": "code",
   "execution_count": 13,
   "metadata": {},
   "outputs": [
    {
     "name": "stdout",
     "output_type": "stream",
     "text": [
      "Field of symmetric bilinear forms T on the 4-dimensional differentiable manifold M\n"
     ]
    },
    {
     "data": {
      "text/html": [
       "<html><script type=\"math/tex; mode=display\">\\newcommand{\\Bold}[1]{\\mathbf{#1}}T = c^{2} \\epsilon\\left(t\\right) \\mathrm{d} t\\otimes \\mathrm{d} t + \\left( -\\frac{R_{0}^{2} a\\left(t\\right)^{2} p\\left(t\\right)}{k r^{2} - R_{0}^{2}} \\right) \\mathrm{d} r\\otimes \\mathrm{d} r + r^{2} a\\left(t\\right)^{2} p\\left(t\\right) \\mathrm{d} {\\theta}\\otimes \\mathrm{d} {\\theta} + r^{2} a\\left(t\\right)^{2} p\\left(t\\right) \\sin\\left({\\theta}\\right)^{2} \\mathrm{d} {\\phi}\\otimes \\mathrm{d} {\\phi}</script></html>"
      ],
      "text/plain": [
       "T = c^2*epsilon(t) dt*dt - R0^2*a(t)^2*p(t)/(k*r^2 - R0^2) dr*dr + r^2*a(t)^2*p(t) dth*dth + r^2*a(t)^2*p(t)*sin(th)^2 dph*dph"
      ]
     },
     "execution_count": 13,
     "metadata": {},
     "output_type": "execute_result"
    }
   ],
   "source": [
    "u_form = u.down(g) # the 1-form associated to u by metric duality\n",
    "T = (epsilon+p)*(u_form*u_form) - p*g\n",
    "T.set_name('T')\n",
    "print(T)\n",
    "T.display()"
   ]
  },
  {
   "cell_type": "markdown",
   "metadata": {},
   "source": [
    "<p>Trag od $T$:</p>"
   ]
  },
  {
   "cell_type": "code",
   "execution_count": 14,
   "metadata": {},
   "outputs": [
    {
     "data": {
      "text/html": [
       "<html><script type=\"math/tex; mode=display\">\\newcommand{\\Bold}[1]{\\mathbf{#1}}\\begin{array}{llcl} & M & \\longrightarrow & \\mathbb{R} \\\\ & \\left(t, r, {\\theta}, {\\phi}\\right) & \\longmapsto & \\epsilon\\left(t\\right) - 3 \\, p\\left(t\\right) \\end{array}</script></html>"
      ],
      "text/plain": [
       "M --> R\n",
       "(t, r, th, ph) |--> epsilon(t) - 3*p(t)"
      ]
     },
     "execution_count": 14,
     "metadata": {},
     "output_type": "execute_result"
    }
   ],
   "source": [
    "Ttrace = g.inverse()['^ab']*T['_ab']\n",
    "Ttrace.display()"
   ]
  },
  {
   "cell_type": "markdown",
   "metadata": {},
   "source": [
    "Einsteinova jednadžba gravitacije. Kako je gore navedeno, nužno u \"+\" konvenciji: $R_{\\mu \\nu} - {1 \\over 2} R g_{\\mu \\nu} = \\frac{8 \\pi G}{c^4} T_{\\mu \\nu}$. Komponenta nula-nula daje **Friedmannovu jednadžbu**:"
   ]
  },
  {
   "cell_type": "code",
   "execution_count": 15,
   "metadata": {},
   "outputs": [
    {
     "data": {
      "text/html": [
       "<html><script type=\"math/tex; mode=display\">\\newcommand{\\Bold}[1]{\\mathbf{#1}}-\\frac{8 \\, \\pi G \\epsilon\\left(t\\right)}{3 \\, c^{2}} + \\frac{\\frac{\\partial}{\\partial t}a\\left(t\\right)^{2}}{a\\left(t\\right)^{2}} + \\frac{c^{2} k}{R_{0}^{2} a\\left(t\\right)^{2}} = 0</script></html>"
      ],
      "text/plain": [
       "-8/3*pi*G*epsilon(t)/c^2 + diff(a(t), t)^2/a(t)^2 + c^2*k/(R0^2*a(t)^2) == 0"
      ]
     },
     "execution_count": 15,
     "metadata": {},
     "output_type": "execute_result"
    }
   ],
   "source": [
    "E1 = Ricci - Ricci_scalar/2*g - (8*pi*G/c^4)*T\n",
    "(E1[0,0]/3).expr().expand() == 0      # dividing everything by 3"
   ]
  },
  {
   "cell_type": "markdown",
   "metadata": {},
   "source": [
    "Ekvivalentan, drugačiji oblik Einsteinove jednadžbe, $R_{\\mu \\nu} = {8 \\pi G} \\left(T_{\\mu \\nu} - {1 \\over 2}T\\,g_{\\mu \\nu}\\right)$, odmah daje **jednadžbu ubrzanja**:"
   ]
  },
  {
   "cell_type": "code",
   "execution_count": 16,
   "metadata": {},
   "outputs": [
    {
     "data": {
      "text/html": [
       "<html><script type=\"math/tex; mode=display\">\\newcommand{\\Bold}[1]{\\mathbf{#1}}-\\frac{4 \\, \\pi G \\epsilon\\left(t\\right)}{3 \\, c^{2}} - \\frac{4 \\, \\pi G p\\left(t\\right)}{c^{2}} - \\frac{\\frac{\\partial^{2}}{(\\partial t)^{2}}a\\left(t\\right)}{a\\left(t\\right)} = 0</script></html>"
      ],
      "text/plain": [
       "-4/3*pi*G*epsilon(t)/c^2 - 4*pi*G*p(t)/c^2 - diff(a(t), t, t)/a(t) == 0"
      ]
     },
     "execution_count": 16,
     "metadata": {},
     "output_type": "execute_result"
    }
   ],
   "source": [
    "E2 = Ricci - (8*pi*G/c^4)*(T - Ttrace/2*g)\n",
    "(E2[0,0]/3).expr().expand() == 0"
   ]
  },
  {
   "cell_type": "markdown",
   "metadata": {},
   "source": [
    "Ovo se slaže s jednadžbama (4.20) i (4.49) u Ryden (2nd ed.), odnosno (4.13) i (4.44) u Ryden (1st ed.)."
   ]
  },
  {
   "cell_type": "markdown",
   "metadata": {},
   "source": [
    "Ako želimo izdvojiti doprinos kozmološke konstante $R_{\\mu \\nu} - {1 \\over 2} R g_{\\mu \\nu} - \\Lambda g_{\\mu\\nu} = \\frac{8 \\pi G}{c^4} T_{\\mu \\nu}$:"
   ]
  },
  {
   "cell_type": "code",
   "execution_count": 17,
   "metadata": {},
   "outputs": [
    {
     "data": {
      "text/html": [
       "<html><script type=\"math/tex; mode=display\">\\newcommand{\\Bold}[1]{\\mathbf{#1}}-\\frac{1}{3} \\, \\Lambda c^{2} - \\frac{8 \\, \\pi G \\epsilon\\left(t\\right)}{3 \\, c^{2}} + \\frac{\\frac{\\partial}{\\partial t}a\\left(t\\right)^{2}}{a\\left(t\\right)^{2}} + \\frac{c^{2} k}{R_{0}^{2} a\\left(t\\right)^{2}} = 0</script></html>"
      ],
      "text/plain": [
       "-1/3*Lambda*c^2 - 8/3*pi*G*epsilon(t)/c^2 + diff(a(t), t)^2/a(t)^2 + c^2*k/(R0^2*a(t)^2) == 0"
      ]
     },
     "execution_count": 17,
     "metadata": {},
     "output_type": "execute_result"
    }
   ],
   "source": [
    "E1 = Ricci - Ricci_scalar/2*g - Lambda*g - (8*pi*G/c^4)*T\n",
    "(E1[0,0]/3).expr().expand() == 0      # dividing everything by 3"
   ]
  },
  {
   "cell_type": "code",
   "execution_count": 18,
   "metadata": {},
   "outputs": [
    {
     "data": {
      "text/html": [
       "<html><script type=\"math/tex; mode=display\">\\newcommand{\\Bold}[1]{\\mathbf{#1}}\\frac{1}{3} \\, \\Lambda c^{2} - \\frac{4 \\, \\pi G \\epsilon\\left(t\\right)}{3 \\, c^{2}} - \\frac{4 \\, \\pi G p\\left(t\\right)}{c^{2}} - \\frac{\\frac{\\partial^{2}}{(\\partial t)^{2}}a\\left(t\\right)}{a\\left(t\\right)} = 0</script></html>"
      ],
      "text/plain": [
       "1/3*Lambda*c^2 - 4/3*pi*G*epsilon(t)/c^2 - 4*pi*G*p(t)/c^2 - diff(a(t), t, t)/a(t) == 0"
      ]
     },
     "execution_count": 18,
     "metadata": {},
     "output_type": "execute_result"
    }
   ],
   "source": [
    "E2 = Ricci + Lambda*g - (8*pi*G/c^4)*(T - Ttrace/2*g)\n",
    "(E2[0,0]/3).expr().expand() == 0"
   ]
  }
 ],
 "metadata": {
  "kernelspec": {
   "display_name": "SageMath 8.1",
   "language": "",
   "name": "sagemath"
  },
  "language": "python",
  "language_info": {
   "codemirror_mode": {
    "name": "ipython",
    "version": 2
   },
   "file_extension": ".py",
   "mimetype": "text/x-python",
   "name": "python",
   "nbconvert_exporter": "python",
   "pygments_lexer": "ipython2",
   "version": "2.7.14"
  },
  "toc": {
   "toc_cell": false,
   "toc_number_sections": true,
   "toc_threshold": 6,
   "toc_window_display": false
  }
 },
 "nbformat": 4,
 "nbformat_minor": 1
}
