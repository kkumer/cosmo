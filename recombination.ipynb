{
 "cells": [
  {
   "cell_type": "markdown",
   "metadata": {},
   "source": [
    "## Cosmological recombination - solving Saha equation"
   ]
  },
  {
   "cell_type": "markdown",
   "metadata": {},
   "source": [
    "We find the temperature and redshift at recombination, i.e. when electrons and protons in early universe first combined into neutral hydrogen. We use very simplified textbook approach and compare with more accurate numbers at the end."
   ]
  },
  {
   "cell_type": "code",
   "execution_count": null,
   "metadata": {},
   "outputs": [],
   "source": [
    "%matplotlib inline\n",
    "from scipy import *\n",
    "import numpy as np\n",
    "import matplotlib.pyplot as plt\n",
    "from scipy.optimize import brentq\n",
    "from scipy.special import zeta\n",
    "import scipy.constants as const"
   ]
  },
  {
   "cell_type": "code",
   "execution_count": null,
   "metadata": {},
   "outputs": [],
   "source": [
    "const.find('Boltz')"
   ]
  },
  {
   "cell_type": "code",
   "execution_count": null,
   "metadata": {},
   "outputs": [],
   "source": [
    "kB = const.value('Boltzmann constant in eV/K')\n",
    "me = const.value('electron mass energy equivalent in MeV')*const.mega  # m_e in eV\n",
    "mp = const.value('proton mass')  # m_p in kg\n",
    "Q = const.value('Rydberg constant times hc in eV')  # 13.6 eV\n",
    "sige = const.value('Thomson cross section')\n",
    "c = const.value('speed of light in vacuum')\n",
    "G = const.value('Newtonian constant of gravitation')"
   ]
  },
  {
   "cell_type": "code",
   "execution_count": null,
   "metadata": {},
   "outputs": [],
   "source": [
    "H0pc = 68  # Hubble constant in km/s/Mpc\n",
    "H0 = H0pc * const.kilo / (const.mega*const.parsec)\n",
    "h = H0pc/100."
   ]
  },
  {
   "cell_type": "code",
   "execution_count": null,
   "metadata": {},
   "outputs": [],
   "source": [
    "ecrit0 = 3*c**2*H0**2/(8*pi*G)  # critical density in J m^-3\n",
    "eta = 0.61e-9   # baryon-to-photon number ratio\n",
    "TCMB = 2.7255   # CMB temperature today in K\n",
    "#\n",
    "Ob0 = 0.048\n",
    "OL0 = 0.69\n",
    "Om0 = 0.31"
   ]
  },
  {
   "cell_type": "markdown",
   "metadata": {},
   "source": [
    "Saha equation, giving fractional ionization of Hydrogen as a function of temperature. See e.g. B. Ryden, _Introduction to Cosmology_ (2nd ed.) Eq. (8.34)."
   ]
  },
  {
   "cell_type": "code",
   "execution_count": null,
   "metadata": {},
   "outputs": [],
   "source": [
    "def saha(kT, X=0.5):\n",
    "    \"\"\"Saha quation \n",
    "       \n",
    "       kT -- temperature times Boltzmann constant\n",
    "        X -- fractional ionization  \n",
    "    \"\"\"\n",
    "    prefac = 2*zeta(3,1)/pi**2  * (2*pi)**(3/2)  # = 3.84\n",
    "    return (1-X)/X**2 - prefac*eta*(abs(kT)/me)**1.5*exp(Q/(kT))"
   ]
  },
  {
   "cell_type": "markdown",
   "metadata": {},
   "source": [
    "For numerical root finding we use `scipy`'s most robust 1D algorithm. We define recombination as the moment when half of the hydrogen is neutral."
   ]
  },
  {
   "cell_type": "code",
   "execution_count": null,
   "metadata": {},
   "outputs": [],
   "source": [
    "kTrec = brentq(saha, 0.1, 1., args=0.5); kTrec"
   ]
  },
  {
   "cell_type": "code",
   "execution_count": null,
   "metadata": {},
   "outputs": [],
   "source": [
    "Trec = kTrec/kB; Trec  # recombination temperature in K"
   ]
  },
  {
   "cell_type": "code",
   "execution_count": null,
   "metadata": {},
   "outputs": [],
   "source": [
    "zrec = Trec/TCMB - 1; zrec  # recombination redshift"
   ]
  },
  {
   "cell_type": "code",
   "execution_count": null,
   "metadata": {},
   "outputs": [],
   "source": [
    "def z(X):\n",
    "    \"\"\"Redshift z for given fractional ionization X\"\"\"\n",
    "    kT = brentq(saha, 0.1, 1, args=X)\n",
    "    return kT/(kB*TCMB) - 1"
   ]
  },
  {
   "cell_type": "code",
   "execution_count": null,
   "metadata": {},
   "outputs": [],
   "source": [
    "z(0.5)  # check"
   ]
  },
  {
   "cell_type": "code",
   "execution_count": null,
   "metadata": {},
   "outputs": [],
   "source": [
    "Xs = np.linspace(0.999, 0.0019, 100)\n",
    "zs = []\n",
    "for X in Xs:\n",
    "    zs.append(z(X))"
   ]
  },
  {
   "cell_type": "code",
   "execution_count": null,
   "metadata": {},
   "outputs": [],
   "source": [
    "fig, ax = plt.subplots(figsize=[7,6])\n",
    "ax.plot(zs, Xs, color='red', linestyle='-')\n",
    "ax.set_xlabel('z', fontsize=14)\n",
    "ax.set_ylabel('X', fontsize=14)\n",
    "ax.plot((z(Xs[0]), z(0.5)), (0.5, 0.5), 'g--', lw=1)\n",
    "ax.plot((z(0.5), z(0.5)), (0, 0.5), 'g--', lw=1)\n",
    "ax.set_xlim(zs[-1], zs[0])\n",
    "ax.set_ylim(0,1)\n",
    "ax.invert_xaxis()"
   ]
  },
  {
   "cell_type": "markdown",
   "metadata": {},
   "source": [
    "## Photon decoupling"
   ]
  },
  {
   "cell_type": "code",
   "execution_count": null,
   "metadata": {},
   "outputs": [],
   "source": [
    "nb0 = Ob0*ecrit0/(mp * c**2)  # baryon number density"
   ]
  },
  {
   "cell_type": "code",
   "execution_count": null,
   "metadata": {},
   "outputs": [],
   "source": [
    "def X(z):\n",
    "    \"\"\"Fractional ionization at redshift z\"\"\"\n",
    "    kT = kB * TCMB * (1+z)\n",
    "    return brentq(lambda X: saha(kT, X), 0.001, 1)"
   ]
  },
  {
   "cell_type": "code",
   "execution_count": null,
   "metadata": {},
   "outputs": [],
   "source": [
    "X(1379)  # check, should be 0.5"
   ]
  },
  {
   "cell_type": "code",
   "execution_count": null,
   "metadata": {},
   "outputs": [],
   "source": [
    "def decouple(z):\n",
    "    \"\"\"Equation Gamma(z) = H(z)\"\"\"\n",
    "    return X(z)*(1+z)**3*nb0*sige*c - H0*sqrt(Om0*(1+z)**3)"
   ]
  },
  {
   "cell_type": "code",
   "execution_count": null,
   "metadata": {},
   "outputs": [],
   "source": [
    "brentq(decouple, 1100, 1300)"
   ]
  },
  {
   "cell_type": "markdown",
   "metadata": {},
   "source": [
    "So decoupling is a distinct event, coming after recombination."
   ]
  },
  {
   "cell_type": "markdown",
   "metadata": {},
   "source": [
    "## Comparison to Weinberg's numbers"
   ]
  },
  {
   "cell_type": "markdown",
   "metadata": {},
   "source": [
    "In Table 2.1 of _Cosmology_ using the same simplified approach he gets (last column, for $\\Omega_B h^2 = 0.03$) ionization 0.971 at 4200 K and 0.00401 at 3000 K. Formulas here give:"
   ]
  },
  {
   "cell_type": "code",
   "execution_count": null,
   "metadata": {},
   "outputs": [],
   "source": [
    "eta=(0.03/0.75**2)*8.7/1.67/4.11e8; eta   # eta corresponding to his 3rd column"
   ]
  },
  {
   "cell_type": "code",
   "execution_count": null,
   "metadata": {},
   "outputs": [],
   "source": [
    "(z(0.971)+1)*TCMB   # Weinberg: 4200 K"
   ]
  },
  {
   "cell_type": "code",
   "execution_count": null,
   "metadata": {},
   "outputs": [],
   "source": [
    "(z(0.00401)+1)*TCMB # Weinberg: 3000 K"
   ]
  },
  {
   "cell_type": "markdown",
   "metadata": {},
   "source": [
    "So this is in good agreement."
   ]
  },
  {
   "cell_type": "markdown",
   "metadata": {},
   "source": [
    "Using careful detailed treatment of recombination physics (a la Peebles), in Table 2.2 Weinberg gets ionization of X=0.122, for z=1100 and T=3000 K. This is in agreement with <a href='https://en.wikipedia.org/wiki/Recombination_(cosmology)#The_effective_three-level_atom'>Wikipedia</a> which has 90% of neutrality at z=1070."
   ]
  },
  {
   "cell_type": "code",
   "execution_count": null,
   "metadata": {},
   "outputs": [],
   "source": [
    "z(0.122)  # Weinberg: 1100"
   ]
  },
  {
   "cell_type": "code",
   "execution_count": null,
   "metadata": {},
   "outputs": [],
   "source": [
    "(z(0.122)+1)*TCMB # Weinberg: 3000 K"
   ]
  },
  {
   "cell_type": "markdown",
   "metadata": {},
   "source": [
    "So simplified treatment is accurate to some 15 %."
   ]
  }
 ],
 "metadata": {
  "kernelspec": {
   "display_name": "Python 3",
   "language": "python",
   "name": "python3"
  },
  "language_info": {
   "codemirror_mode": {
    "name": "ipython",
    "version": 3
   },
   "file_extension": ".py",
   "mimetype": "text/x-python",
   "name": "python",
   "nbconvert_exporter": "python",
   "pygments_lexer": "ipython3",
   "version": "3.6.5"
  },
  "toc": {
   "toc_cell": false,
   "toc_number_sections": true,
   "toc_threshold": 6,
   "toc_window_display": false
  }
 },
 "nbformat": 4,
 "nbformat_minor": 2
}