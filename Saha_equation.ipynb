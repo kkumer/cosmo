{
 "cells": [
  {
   "cell_type": "markdown",
   "metadata": {},
   "source": [
    "## Cosmological recombination - solving Saha equation"
   ]
  },
  {
   "cell_type": "markdown",
   "metadata": {},
   "source": [
    "We find the temperature and redshift at recombination, i.e. when electrons and protons in early universe first combined into neutral hydrogen. We use very simplified textbook approach."
   ]
  },
  {
   "cell_type": "code",
   "execution_count": null,
   "metadata": {},
   "outputs": [],
   "source": [
    "%matplotlib inline\n",
    "from scipy import *\n",
    "import numpy as np\n",
    "import matplotlib.pyplot as plt\n",
    "from scipy.optimize import brentq\n",
    "import scipy.constants as const"
   ]
  },
  {
   "cell_type": "code",
   "execution_count": null,
   "metadata": {},
   "outputs": [],
   "source": [
    "const.find('Boltz')"
   ]
  },
  {
   "cell_type": "code",
   "execution_count": null,
   "metadata": {},
   "outputs": [],
   "source": [
    "kB = const.value('Boltzmann constant in eV/K')\n",
    "me = const.value('electron mass energy equivalent in MeV')*const.mega  # m_e in eV\n",
    "Q = const.value('Rydberg constant times hc in eV')  # 13.6 eV"
   ]
  },
  {
   "cell_type": "code",
   "execution_count": null,
   "metadata": {},
   "outputs": [],
   "source": [
    "eta = 0.61e-9   # baryon-to-photon number ratio\n",
    "TCMB = 2.7255   # CMB temperature today in K"
   ]
  },
  {
   "cell_type": "markdown",
   "metadata": {},
   "source": [
    "Saha equation, giving fractional ionization of Hydrogen as a function of temperature. See e.g. B. Ryden, _Introduction to Cosmology_ (2nd ed.) Eq. (8.34)."
   ]
  },
  {
   "cell_type": "code",
   "execution_count": null,
   "metadata": {},
   "outputs": [],
   "source": [
    "def saha(kT, X=0.5):\n",
    "    \"\"\"Saha quation \n",
    "       \n",
    "       kT -- temperature times Boltzmann constant\n",
    "        X -- fractional ionization  \n",
    "    \"\"\"\n",
    "    return (1-X)/X**2 - 3.84*eta*(abs(kT)/me)**1.5*exp(Q/(kT))"
   ]
  },
  {
   "cell_type": "markdown",
   "metadata": {},
   "source": [
    "For numerical root finding we use `scipy`'s most robust 1D algorithm."
   ]
  },
  {
   "cell_type": "code",
   "execution_count": null,
   "metadata": {},
   "outputs": [],
   "source": [
    "kTrec = brentq(saha, 0.1, 1., args=0.5); kT_rec"
   ]
  },
  {
   "cell_type": "code",
   "execution_count": null,
   "metadata": {},
   "outputs": [],
   "source": [
    "Trec = kTrec/kB; Trec  # recombination temperature in K"
   ]
  },
  {
   "cell_type": "code",
   "execution_count": null,
   "metadata": {},
   "outputs": [],
   "source": [
    "zrec = Trec/TCMB - 1; zrec  # recombination redshift"
   ]
  },
  {
   "cell_type": "code",
   "execution_count": null,
   "metadata": {},
   "outputs": [],
   "source": [
    "def z(X):\n",
    "    \"\"\"Redshift z for given fractional ionization X\"\"\"\n",
    "    kT = brentq(saha, 0.1, 1, args=X)\n",
    "    return kT/(kB*TCMB) - 1"
   ]
  },
  {
   "cell_type": "code",
   "execution_count": null,
   "metadata": {},
   "outputs": [],
   "source": [
    "z(0.5)  # check"
   ]
  },
  {
   "cell_type": "code",
   "execution_count": null,
   "metadata": {},
   "outputs": [],
   "source": [
    "Xs = np.linspace(0.999, 0.0019, 100)\n",
    "zs = []\n",
    "for X in Xs:\n",
    "    zs.append(z(X))"
   ]
  },
  {
   "cell_type": "code",
   "execution_count": null,
   "metadata": {},
   "outputs": [],
   "source": [
    "fig, ax = plt.subplots(figsize=[7,6])\n",
    "ax.plot(zs, Xs, color='red', linestyle='-')\n",
    "ax.set_xlabel('z', fontsize=14)\n",
    "ax.set_ylabel('X', fontsize=14)\n",
    "ax.plot((z(Xs[0]), z(0.5)), (0.5, 0.5), 'g--', lw=1)\n",
    "ax.plot((z(0.5), z(0.5)), (0, 0.5), 'g--', lw=1)\n",
    "ax.set_xlim(zs[-1], zs[0])\n",
    "ax.set_ylim(0,1)\n",
    "ax.invert_xaxis()"
   ]
  },
  {
   "cell_type": "code",
   "execution_count": null,
   "metadata": {},
   "outputs": [],
   "source": []
  }
 ],
 "metadata": {
  "kernelspec": {
   "display_name": "Python 3",
   "language": "python",
   "name": "python3"
  },
  "language_info": {
   "codemirror_mode": {
    "name": "ipython",
    "version": 3
   },
   "file_extension": ".py",
   "mimetype": "text/x-python",
   "name": "python",
   "nbconvert_exporter": "python",
   "pygments_lexer": "ipython3",
   "version": "3.6.5"
  },
  "toc": {
   "toc_cell": false,
   "toc_number_sections": true,
   "toc_threshold": 6,
   "toc_window_display": false
  }
 },
 "nbformat": 4,
 "nbformat_minor": 2
}